{
 "cells": [
  {
   "cell_type": "code",
   "execution_count": null,
   "id": "0",
   "metadata": {},
   "outputs": [],
   "source": [
    "import pandas as pd\n",
    "import numpy as np\n",
    "import ast\n",
    "\n",
    "RAW_CSV = \"../data/products.csv\"\n",
    "FINAL_CSV = \"../data/products_clean.csv\""
   ]
  },
  {
   "cell_type": "code",
   "execution_count": null,
   "id": "1",
   "metadata": {},
   "outputs": [],
   "source": [
    "df = pd.read_csv(RAW_CSV)"
   ]
  },
  {
   "cell_type": "markdown",
   "id": "2",
   "metadata": {},
   "source": [
    "Information about the dataset"
   ]
  },
  {
   "cell_type": "code",
   "execution_count": null,
   "id": "3",
   "metadata": {},
   "outputs": [],
   "source": [
    "print(f\"Shape: {df.shape}\")\n",
    "\n",
    "display(df.head(3))\n",
    "\n",
    "# Basic info\n",
    "print(df.info())\n",
    "\n",
    "# Missing values\n",
    "print(df.isnull().sum())\n",
    "\n",
    "# Check duplicates\n",
    "print(\"\\nDuplicate uniq_id rows:\", df.duplicated(subset=\"uniq_id\").sum())"
   ]
  },
  {
   "cell_type": "markdown",
   "id": "4",
   "metadata": {},
   "source": [
    "Prepare dataset"
   ]
  },
  {
   "cell_type": "code",
   "execution_count": null,
   "id": "5",
   "metadata": {},
   "outputs": [],
   "source": [
    "# remove duplicate uniq_id\n",
    "df = df.drop_duplicates(subset=\"uniq_id\")\n",
    "print(\"After removing duplicates:\", df.shape)"
   ]
  },
  {
   "cell_type": "code",
   "execution_count": null,
   "id": "6",
   "metadata": {},
   "outputs": [],
   "source": [
    "# fill missing description with title\n",
    "df['description'] = df.apply(lambda row: row['title'] if pd.isnull(row['description']) else row['description'], axis=1)"
   ]
  },
  {
   "cell_type": "code",
   "execution_count": null,
   "id": "7",
   "metadata": {},
   "outputs": [],
   "source": [
    "# fill price with median\n",
    "df['price'] = df['price'].replace('[\\$,]', '', regex=True).astype(float)\n",
    "median_price = df['price'].median()\n",
    "df['price'] = df['price'].fillna(median_price)"
   ]
  },
  {
   "cell_type": "code",
   "execution_count": null,
   "id": "8",
   "metadata": {},
   "outputs": [],
   "source": [
    "# fill manufacturer, package_dimensions, country_of_origin, material, color\n",
    "df['manufacturer'] = df['manufacturer'].fillna(\"Unknown\")\n",
    "df['package_dimensions'] = df['package_dimensions'].fillna(\"Unknown\")\n",
    "df['country_of_origin'] = df['country_of_origin'].fillna(\"Unknown\")\n",
    "df['material'] = df['material'].fillna(\"Unknown\")\n",
    "df['color'] = df['color'].fillna(\"Unknown\")"
   ]
  },
  {
   "cell_type": "code",
   "execution_count": null,
   "id": "9",
   "metadata": {},
   "outputs": [],
   "source": [
    "# parse list columns (convert to python list)\n",
    "def parse_list_column(col):\n",
    "    return col.apply(lambda x: ast.literal_eval(x) if pd.notnull(x) else [])\n",
    "\n",
    "df['categories'] = parse_list_column(df['categories'])\n",
    "df['images'] = parse_list_column(df['images'])"
   ]
  },
  {
   "cell_type": "code",
   "execution_count": null,
   "id": "10",
   "metadata": {},
   "outputs": [],
   "source": [
    "# clean text columns\n",
    "text_cols = ['title', 'description', 'brand', 'manufacturer', 'material', 'color']\n",
    "for col in text_cols:\n",
    "    df[col] = df[col].str.strip()\n",
    "    df[col] = df[col].str.lower()"
   ]
  },
  {
   "cell_type": "code",
   "execution_count": null,
   "id": "11",
   "metadata": {},
   "outputs": [],
   "source": [
    "# save final clean dataset\n",
    "df.to_csv(FINAL_CSV, index=False)\n",
    "print(\"Clean dataset saved to:\", FINAL_CSV)"
   ]
  }
 ],
 "metadata": {
  "kernelspec": {
   "display_name": ".venv",
   "language": "python",
   "name": "python3"
  },
  "language_info": {
   "codemirror_mode": {
    "name": "ipython",
    "version": 3
   },
   "file_extension": ".py",
   "mimetype": "text/x-python",
   "name": "python",
   "nbconvert_exporter": "python",
   "pygments_lexer": "ipython3",
   "version": "3.13.0"
  }
 },
 "nbformat": 4,
 "nbformat_minor": 5
}
